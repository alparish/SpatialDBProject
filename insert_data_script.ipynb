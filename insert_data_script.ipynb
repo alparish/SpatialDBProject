{
 "cells": [
  {
   "cell_type": "markdown",
   "metadata": {},
   "source": [
    "# Insert instructions\n",
    "\n",
    "1. Create table in SQL server using the `create_table_script.sql` \n",
    "2. Make sure you have pandas and pyodbc installed in your python env\n",
    "3. Install ODBC Driver 18 from https://learn.microsoft.com/en-us/sql/connect/odbc/download-odbc-driver-for-sql-server?view=sql-server-ver16\n",
    "4. Change server and database"
   ]
  },
  {
   "cell_type": "code",
   "execution_count": null,
   "metadata": {},
   "outputs": [],
   "source": [
    "import pandas as pd\n",
    "import pyodbc"
   ]
  },
  {
   "cell_type": "code",
   "execution_count": null,
   "metadata": {},
   "outputs": [],
   "source": [
    "result_df = pd.read_csv('processed_dataset.csv')"
   ]
  },
  {
   "cell_type": "code",
   "execution_count": null,
   "metadata": {},
   "outputs": [],
   "source": [
    "def insert_taxi_data(df, server, database):\n",
    "    conn_str = (\n",
    "        'Driver={ODBC Driver 18 for SQL Server};'\n",
    "        f'Server={server};'\n",
    "        f'Database={database};'\n",
    "        'Trusted_Connection=yes;'\n",
    "        'TrustServerCertificate=yes;'\n",
    "    )\n",
    "    \n",
    "    try:\n",
    "        # Create connection\n",
    "        conn = pyodbc.connect(conn_str)\n",
    "        cursor = conn.cursor()\n",
    "        print(\"Connected to the database\")\n",
    "        \n",
    "        rows_processed = 0\n",
    "        \n",
    "        # SQL insert statement using geography::Point\n",
    "        insert_query = \"\"\"\n",
    "        INSERT INTO taxi_trips\n",
    "            (taxi_id, trip_id, datetime, longitude, latitude, location)\n",
    "        VALUES \n",
    "            (?, ?, ?, ?, ?, geography::Point(?, ?, 4326))\n",
    "        \"\"\"\n",
    "        \n",
    "        for _, row in df.iterrows():\n",
    "            try:\n",
    "                cursor.execute(\n",
    "                    insert_query,\n",
    "                    int(row['taxi_id']),\n",
    "                    int(row['trip_id']),\n",
    "                    row['datetime'],\n",
    "                    float(row['longitude']),\n",
    "                    float(row['latitude']),\n",
    "                    float(row['latitude']),    # Point takes latitude first\n",
    "                    float(row['longitude'])     # then longitude\n",
    "                )\n",
    "                \n",
    "                rows_processed += 1\n",
    "                if rows_processed % 100 == 0:  # Print progress every 100 rows\n",
    "                    print(f\"Processed {rows_processed} rows\")\n",
    "                \n",
    "            except Exception as e:\n",
    "                print(f\"Error inserting row {row['taxi_id']}, {row['trip_id']}, {row['datetime']}: {str(e)}\")\n",
    "                raise\n",
    "                \n",
    "        # Commit the transaction and close connections\n",
    "        conn.commit()\n",
    "        cursor.close()\n",
    "        conn.close()\n",
    "        print(f\"Data insertion completed successfully. Total rows processed: {rows_processed}\")\n",
    "            \n",
    "    except Exception as e:\n",
    "        print(f\"Error: {str(e)}\")\n",
    "        raise"
   ]
  },
  {
   "cell_type": "markdown",
   "metadata": {},
   "source": [
    "## Change server and database"
   ]
  },
  {
   "cell_type": "code",
   "execution_count": null,
   "metadata": {},
   "outputs": [],
   "source": [
    "server = 'RIYA_SURFACE\\\\PRIYAMSSQL'\n",
    "database = 'TCSS565_TrajectoryDB'"
   ]
  },
  {
   "cell_type": "code",
   "execution_count": null,
   "metadata": {},
   "outputs": [],
   "source": [
    "insert_taxi_data(result_df, server, database)"
   ]
  }
 ],
 "metadata": {
  "kernelspec": {
   "display_name": "main_env",
   "language": "python",
   "name": "python3"
  },
  "language_info": {
   "codemirror_mode": {
    "name": "ipython",
    "version": 3
   },
   "file_extension": ".py",
   "mimetype": "text/x-python",
   "name": "python",
   "nbconvert_exporter": "python",
   "pygments_lexer": "ipython3",
   "version": "3.13.0"
  }
 },
 "nbformat": 4,
 "nbformat_minor": 2
}
